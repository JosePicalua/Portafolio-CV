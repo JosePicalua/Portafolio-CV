{
 "cells": [
  {
   "cell_type": "code",
   "execution_count": 1,
   "metadata": {},
   "outputs": [],
   "source": [
    "import pandas as pd\n",
    "import numpy as np\n",
    "import matplotlib.pyplot as plt\n",
    "import seaborn as sns\n",
    "import psycopg2"
   ]
  },
  {
   "cell_type": "markdown",
   "metadata": {},
   "source": [
    "conexicon a base de datos"
   ]
  },
  {
   "cell_type": "code",
   "execution_count": 4,
   "metadata": {},
   "outputs": [
    {
     "name": "stdout",
     "output_type": "stream",
     "text": [
      "✅ Conexión exitosa\n"
     ]
    }
   ],
   "source": [
    "try:\n",
    "    conn = psycopg2.connect(\n",
    "        dbname=\"empresa_sales\",\n",
    "        user=\"postgres\",\n",
    "        password=\"Josepicalua123.\",\n",
    "        host=\"localhost\",\n",
    "        port=\"5432\"\n",
    "    )\n",
    "    cursor = conn.cursor()\n",
    "    print(f\"✅ Conexión exitosa\")\n",
    "except Exception as e:\n",
    "    print(f\"❌ Error: {e}\")"
   ]
  },
  {
   "cell_type": "markdown",
   "metadata": {},
   "source": [
    "consulta de productos con mayores compras"
   ]
  },
  {
   "cell_type": "code",
   "execution_count": 11,
   "metadata": {},
   "outputs": [],
   "source": [
    "def consultas_dataframe(consultas, conn):\n",
    "    try:\n",
    "        df = pd.read_sql_query(consultas, conn)\n",
    "        return df\n",
    "    except Exception as e:\n",
    "        print(f\"❌ Error: {e}\")\n",
    "        return None\n",
    "\n"
   ]
  },
  {
   "cell_type": "code",
   "execution_count": 14,
   "metadata": {},
   "outputs": [
    {
     "name": "stderr",
     "output_type": "stream",
     "text": [
      "C:\\Users\\josep\\AppData\\Local\\Temp\\ipykernel_9824\\1638375261.py:3: UserWarning: pandas only supports SQLAlchemy connectable (engine/connection) or database string URI or sqlite3 DBAPI2 connection. Other DBAPI2 objects are not tested. Please consider using SQLAlchemy.\n",
      "  df = pd.read_sql_query(query, conn)\n"
     ]
    },
    {
     "data": {
      "text/html": [
       "<div>\n",
       "<style scoped>\n",
       "    .dataframe tbody tr th:only-of-type {\n",
       "        vertical-align: middle;\n",
       "    }\n",
       "\n",
       "    .dataframe tbody tr th {\n",
       "        vertical-align: top;\n",
       "    }\n",
       "\n",
       "    .dataframe thead th {\n",
       "        text-align: right;\n",
       "    }\n",
       "</style>\n",
       "<table border=\"1\" class=\"dataframe\">\n",
       "  <thead>\n",
       "    <tr style=\"text-align: right;\">\n",
       "      <th></th>\n",
       "      <th>id_provedor</th>\n",
       "      <th>id_producto</th>\n",
       "      <th>cantidad_compra</th>\n",
       "      <th>price_unitario</th>\n",
       "      <th>total_compra</th>\n",
       "    </tr>\n",
       "  </thead>\n",
       "  <tbody>\n",
       "    <tr>\n",
       "      <th>0</th>\n",
       "      <td>917161</td>\n",
       "      <td>5473</td>\n",
       "      <td>7</td>\n",
       "      <td>141.98</td>\n",
       "      <td>993.86</td>\n",
       "    </tr>\n",
       "    <tr>\n",
       "      <th>1</th>\n",
       "      <td>732498</td>\n",
       "      <td>6221</td>\n",
       "      <td>3</td>\n",
       "      <td>207.07</td>\n",
       "      <td>621.21</td>\n",
       "    </tr>\n",
       "    <tr>\n",
       "      <th>2</th>\n",
       "      <td>815394</td>\n",
       "      <td>1604</td>\n",
       "      <td>8</td>\n",
       "      <td>499.52</td>\n",
       "      <td>3996.16</td>\n",
       "    </tr>\n",
       "    <tr>\n",
       "      <th>3</th>\n",
       "      <td>920932</td>\n",
       "      <td>9254</td>\n",
       "      <td>10</td>\n",
       "      <td>343.88</td>\n",
       "      <td>3438.80</td>\n",
       "    </tr>\n",
       "    <tr>\n",
       "      <th>4</th>\n",
       "      <td>791789</td>\n",
       "      <td>3863</td>\n",
       "      <td>9</td>\n",
       "      <td>356.71</td>\n",
       "      <td>3210.39</td>\n",
       "    </tr>\n",
       "    <tr>\n",
       "      <th>...</th>\n",
       "      <td>...</td>\n",
       "      <td>...</td>\n",
       "      <td>...</td>\n",
       "      <td>...</td>\n",
       "      <td>...</td>\n",
       "    </tr>\n",
       "    <tr>\n",
       "      <th>155</th>\n",
       "      <td>648557</td>\n",
       "      <td>5639</td>\n",
       "      <td>7</td>\n",
       "      <td>94.73</td>\n",
       "      <td>663.11</td>\n",
       "    </tr>\n",
       "    <tr>\n",
       "      <th>156</th>\n",
       "      <td>920932</td>\n",
       "      <td>9254</td>\n",
       "      <td>1</td>\n",
       "      <td>44.09</td>\n",
       "      <td>44.09</td>\n",
       "    </tr>\n",
       "    <tr>\n",
       "      <th>157</th>\n",
       "      <td>603327</td>\n",
       "      <td>5762</td>\n",
       "      <td>9</td>\n",
       "      <td>48.94</td>\n",
       "      <td>440.46</td>\n",
       "    </tr>\n",
       "    <tr>\n",
       "      <th>158</th>\n",
       "      <td>915550</td>\n",
       "      <td>3484</td>\n",
       "      <td>3</td>\n",
       "      <td>13.91</td>\n",
       "      <td>41.73</td>\n",
       "    </tr>\n",
       "    <tr>\n",
       "      <th>159</th>\n",
       "      <td>917161</td>\n",
       "      <td>8880</td>\n",
       "      <td>9</td>\n",
       "      <td>470.87</td>\n",
       "      <td>4237.83</td>\n",
       "    </tr>\n",
       "  </tbody>\n",
       "</table>\n",
       "<p>160 rows × 5 columns</p>\n",
       "</div>"
      ],
      "text/plain": [
       "     id_provedor  id_producto  cantidad_compra  price_unitario  total_compra\n",
       "0         917161         5473                7          141.98        993.86\n",
       "1         732498         6221                3          207.07        621.21\n",
       "2         815394         1604                8          499.52       3996.16\n",
       "3         920932         9254               10          343.88       3438.80\n",
       "4         791789         3863                9          356.71       3210.39\n",
       "..           ...          ...              ...             ...           ...\n",
       "155       648557         5639                7           94.73        663.11\n",
       "156       920932         9254                1           44.09         44.09\n",
       "157       603327         5762                9           48.94        440.46\n",
       "158       915550         3484                3           13.91         41.73\n",
       "159       917161         8880                9          470.87       4237.83\n",
       "\n",
       "[160 rows x 5 columns]"
      ]
     },
     "execution_count": 14,
     "metadata": {},
     "output_type": "execute_result"
    }
   ],
   "source": [
    "consulta_compras_provedor = \"SELECT id_provedor, id_producto, cantidad_compra, price_unitario, total_compra FROM compra GROUP BY id_provedor, id_producto, cantidad_compra, price_unitario, total_compra\"\n",
    "df_consulta_compras_provedor = query_to_dataframe(consulta_compras_provedor, conn)\n",
    "df_consulta_compras_provedor"
   ]
  },
  {
   "cell_type": "code",
   "execution_count": null,
   "metadata": {},
   "outputs": [
    {
     "data": {
      "text/plain": [
       "array([5473, 6221, 1604, 9254, 3863, 3216, 6984, 8772, 2161, 2272, 5516,\n",
       "       2580, 2041, 3555, 9840, 5726, 3484, 9927, 2514, 8700, 4935, 7739,\n",
       "       9448, 3043, 6906, 6169, 7015, 5440, 6312, 8068, 3387, 1436, 1724,\n",
       "       8880, 4084, 1761, 5762, 2633, 5226, 5639])"
      ]
     },
     "execution_count": 20,
     "metadata": {},
     "output_type": "execute_result"
    }
   ],
   "source": [
    "df_consulta_compras_provedor['id_producto'].unique()"
   ]
  },
  {
   "cell_type": "markdown",
   "metadata": {},
   "source": [
    "Encontrar un mismo producto, comprado por diferecntes provedores y sus precios"
   ]
  },
  {
   "cell_type": "code",
   "execution_count": 52,
   "metadata": {},
   "outputs": [
    {
     "data": {
      "text/html": [
       "<div>\n",
       "<style scoped>\n",
       "    .dataframe tbody tr th:only-of-type {\n",
       "        vertical-align: middle;\n",
       "    }\n",
       "\n",
       "    .dataframe tbody tr th {\n",
       "        vertical-align: top;\n",
       "    }\n",
       "\n",
       "    .dataframe thead th {\n",
       "        text-align: right;\n",
       "    }\n",
       "</style>\n",
       "<table border=\"1\" class=\"dataframe\">\n",
       "  <thead>\n",
       "    <tr style=\"text-align: right;\">\n",
       "      <th></th>\n",
       "      <th>id_producto</th>\n",
       "      <th>id_provedor</th>\n",
       "      <th>price_unitario</th>\n",
       "      <th>cantidad_compra</th>\n",
       "    </tr>\n",
       "  </thead>\n",
       "  <tbody>\n",
       "    <tr>\n",
       "      <th>0</th>\n",
       "      <td>1436</td>\n",
       "      <td>[834287, 834287, 834287, 834287]</td>\n",
       "      <td>[10.5, 398.82, 258.23, 460.16]</td>\n",
       "      <td>[5, 4, 9, 6]</td>\n",
       "    </tr>\n",
       "    <tr>\n",
       "      <th>1</th>\n",
       "      <td>1604</td>\n",
       "      <td>[815394, 815394, 815394, 815394]</td>\n",
       "      <td>[499.52, 171.67, 256.38, 97.74]</td>\n",
       "      <td>[8, 6, 9, 4]</td>\n",
       "    </tr>\n",
       "    <tr>\n",
       "      <th>2</th>\n",
       "      <td>1724</td>\n",
       "      <td>[914258, 914258, 914258, 914258]</td>\n",
       "      <td>[134.43, 480.41, 262.86, 298.83]</td>\n",
       "      <td>[7, 5, 8, 3]</td>\n",
       "    </tr>\n",
       "    <tr>\n",
       "      <th>3</th>\n",
       "      <td>1761</td>\n",
       "      <td>[815394, 815394, 815394, 815394]</td>\n",
       "      <td>[225.77, 261.21, 391.14, 295.46]</td>\n",
       "      <td>[2, 9, 10, 7]</td>\n",
       "    </tr>\n",
       "    <tr>\n",
       "      <th>4</th>\n",
       "      <td>2041</td>\n",
       "      <td>[939952, 939952, 939952, 939952]</td>\n",
       "      <td>[337.69, 162.87, 471.41, 334.16]</td>\n",
       "      <td>[6, 7, 7, 1]</td>\n",
       "    </tr>\n",
       "  </tbody>\n",
       "</table>\n",
       "</div>"
      ],
      "text/plain": [
       "   id_producto                       id_provedor  \\\n",
       "0         1436  [834287, 834287, 834287, 834287]   \n",
       "1         1604  [815394, 815394, 815394, 815394]   \n",
       "2         1724  [914258, 914258, 914258, 914258]   \n",
       "3         1761  [815394, 815394, 815394, 815394]   \n",
       "4         2041  [939952, 939952, 939952, 939952]   \n",
       "\n",
       "                     price_unitario cantidad_compra  \n",
       "0    [10.5, 398.82, 258.23, 460.16]    [5, 4, 9, 6]  \n",
       "1   [499.52, 171.67, 256.38, 97.74]    [8, 6, 9, 4]  \n",
       "2  [134.43, 480.41, 262.86, 298.83]    [7, 5, 8, 3]  \n",
       "3  [225.77, 261.21, 391.14, 295.46]   [2, 9, 10, 7]  \n",
       "4  [337.69, 162.87, 471.41, 334.16]    [6, 7, 7, 1]  "
      ]
     },
     "execution_count": 52,
     "metadata": {},
     "output_type": "execute_result"
    }
   ],
   "source": [
    "# Encontrar los productos que se repiten\n",
    "productos_repetidos = df_consulta_compras_provedor[df_consulta_compras_provedor.duplicated(['id_producto'], keep=False)]\n",
    "\n",
    "# Agrupar por id_producto y listar los id_provedor y price_unitario asociados\n",
    "productos_agrupados = productos_repetidos.groupby('id_producto').agg({\n",
    "    'id_provedor': list,\n",
    "    'price_unitario': list,\n",
    "    'cantidad_compra': list\n",
    "}).reset_index()\n",
    "\n",
    "# Mostrar las primeras 5 filas\n",
    "mostrar_5 = productos_agrupados.head(5)\n",
    "\n",
    "mostrar_5"
   ]
  },
  {
   "cell_type": "code",
   "execution_count": 45,
   "metadata": {},
   "outputs": [
    {
     "data": {
      "image/png": "[encoded data removed]",
      "text/plain": [
       "<Figure size 640x480 with 1 Axes>"
      ]
     },
     "metadata": {},
     "output_type": "display_data"
    }
   ],
   "source": [
    "\n",
    "categorias = ['A', 'B', 'C']\n",
    "valores = [10, 20, 15]\n",
    "\n",
    "plt.bar(categorias, valores, label='Datos')\n",
    "plt.xlabel('Categorías')\n",
    "plt.ylabel('Valores')\n",
    "plt.title('Gráfico de barras con etiqueta')\n",
    "plt.legend()\n",
    "plt.show()"
   ]
  }
 ],
 "metadata": {
  "kernelspec": {
   "display_name": "Virtualportafolio",
   "language": "python",
   "name": "python3"
  },
  "language_info": {
   "codemirror_mode": {
    "name": "ipython",
    "version": 3
   },
   "file_extension": ".py",
   "mimetype": "text/x-python",
   "name": "python",
   "nbconvert_exporter": "python",
   "pygments_lexer": "ipython3",
   "version": "3.11.9"
  }
 },
 "nbformat": 4,
 "nbformat_minor": 2
}
